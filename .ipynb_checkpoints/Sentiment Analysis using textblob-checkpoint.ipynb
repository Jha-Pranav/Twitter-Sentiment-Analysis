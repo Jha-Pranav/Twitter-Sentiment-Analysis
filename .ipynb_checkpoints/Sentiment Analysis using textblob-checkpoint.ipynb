{
 "cells": [
  {
   "cell_type": "code",
   "execution_count": 65,
   "metadata": {},
   "outputs": [],
   "source": [
    "#Performing standard import\n",
    "\n",
    "import numpy as np\n",
    "import pandas as pd\n",
    "\n",
    "import re\n",
    "from textblob import TextBlob\n"
   ]
  },
  {
   "cell_type": "code",
   "execution_count": 66,
   "metadata": {},
   "outputs": [],
   "source": [
    "dataset = pd.read_csv('Extracted Data//Tweets on Gender.csv')"
   ]
  },
  {
   "cell_type": "code",
   "execution_count": 67,
   "metadata": {},
   "outputs": [
    {
     "data": {
      "text/html": [
       "<div>\n",
       "<style scoped>\n",
       "    .dataframe tbody tr th:only-of-type {\n",
       "        vertical-align: middle;\n",
       "    }\n",
       "\n",
       "    .dataframe tbody tr th {\n",
       "        vertical-align: top;\n",
       "    }\n",
       "\n",
       "    .dataframe thead th {\n",
       "        text-align: right;\n",
       "    }\n",
       "</style>\n",
       "<table border=\"1\" class=\"dataframe\">\n",
       "  <thead>\n",
       "    <tr style=\"text-align: right;\">\n",
       "      <th></th>\n",
       "      <th>Id</th>\n",
       "      <th>Tweets</th>\n",
       "      <th>Lang</th>\n",
       "      <th>Location</th>\n",
       "    </tr>\n",
       "  </thead>\n",
       "  <tbody>\n",
       "    <tr>\n",
       "      <th>0</th>\n",
       "      <td>1225675713459539968</td>\n",
       "      <td>RT @TwisterFilm: 13./ Here's James Morton from...</td>\n",
       "      <td>en</td>\n",
       "      <td>Over here.</td>\n",
       "    </tr>\n",
       "    <tr>\n",
       "      <th>1</th>\n",
       "      <td>1225675711710523393</td>\n",
       "      <td>How do actors, rules &amp;amp; institutional conte...</td>\n",
       "      <td>en</td>\n",
       "      <td>Sheffield and Buenos Aires</td>\n",
       "    </tr>\n",
       "    <tr>\n",
       "      <th>2</th>\n",
       "      <td>1225675705154859008</td>\n",
       "      <td>RT @DamnTrue04: You did not choose your:\\n\\n1 ...</td>\n",
       "      <td>en</td>\n",
       "      <td>NaN</td>\n",
       "    </tr>\n",
       "    <tr>\n",
       "      <th>3</th>\n",
       "      <td>1225675701799358464</td>\n",
       "      <td>\"biometric gender verification\" YIKES!</td>\n",
       "      <td>en</td>\n",
       "      <td>NaN</td>\n",
       "    </tr>\n",
       "    <tr>\n",
       "      <th>4</th>\n",
       "      <td>1225675696694906880</td>\n",
       "      <td>Top jobs lead to divorce for women, but not fo...</td>\n",
       "      <td>en</td>\n",
       "      <td>Geneva, Switzerland</td>\n",
       "    </tr>\n",
       "  </tbody>\n",
       "</table>\n",
       "</div>"
      ],
      "text/plain": [
       "                    Id                                             Tweets  \\\n",
       "0  1225675713459539968  RT @TwisterFilm: 13./ Here's James Morton from...   \n",
       "1  1225675711710523393  How do actors, rules &amp; institutional conte...   \n",
       "2  1225675705154859008  RT @DamnTrue04: You did not choose your:\\n\\n1 ...   \n",
       "3  1225675701799358464             \"biometric gender verification\" YIKES!   \n",
       "4  1225675696694906880  Top jobs lead to divorce for women, but not fo...   \n",
       "\n",
       "  Lang                    Location  \n",
       "0   en                 Over here.   \n",
       "1   en  Sheffield and Buenos Aires  \n",
       "2   en                         NaN  \n",
       "3   en                         NaN  \n",
       "4   en         Geneva, Switzerland  "
      ]
     },
     "execution_count": 67,
     "metadata": {},
     "output_type": "execute_result"
    }
   ],
   "source": [
    "dataset.head()\n"
   ]
  },
  {
   "cell_type": "code",
   "execution_count": 68,
   "metadata": {},
   "outputs": [
    {
     "name": "stdout",
     "output_type": "stream",
     "text": [
      "<class 'pandas.core.frame.DataFrame'>\n",
      "RangeIndex: 992 entries, 0 to 991\n",
      "Data columns (total 4 columns):\n",
      "Id          992 non-null int64\n",
      "Tweets      992 non-null object\n",
      "Lang        992 non-null object\n",
      "Location    650 non-null object\n",
      "dtypes: int64(1), object(3)\n",
      "memory usage: 31.1+ KB\n"
     ]
    }
   ],
   "source": [
    "dataset.info()"
   ]
  },
  {
   "cell_type": "code",
   "execution_count": 69,
   "metadata": {},
   "outputs": [
    {
     "data": {
      "text/plain": [
       "Id            0\n",
       "Tweets        0\n",
       "Lang          0\n",
       "Location    342\n",
       "dtype: int64"
      ]
     },
     "execution_count": 69,
     "metadata": {},
     "output_type": "execute_result"
    }
   ],
   "source": [
    "dataset.isnull().sum()"
   ]
  },
  {
   "cell_type": "markdown",
   "metadata": {},
   "source": [
    "#### Text Preprocessing :"
   ]
  },
  {
   "cell_type": "code",
   "execution_count": 70,
   "metadata": {},
   "outputs": [],
   "source": [
    "dataset['Location'] = dataset['Location'].fillna('N.A')"
   ]
  },
  {
   "cell_type": "code",
   "execution_count": 71,
   "metadata": {},
   "outputs": [],
   "source": [
    "# pattern_1 = '([A-Za-z]+ @\\w+:)'  # RT @TwisterFilm:\n",
    "# pattern_2 = '(@\\w+)'             # @TwisterFilm\n",
    "# pattern_3 = '(https:\\/\\/[a-zA-Z0-9]*.?[A-Za-z0-9]*\\/[a-zA-Z0-9]*' #link : https://t.co/IPzmqu4PfK'\n",
    "\n",
    "# re.sub('([A-Za-z]+ @\\w+:)|(@\\w+) | (https:\\/\\/[a-zA-Z0-9]*.?[A-Za-z0-9]*\\/[a-zA-Z0-9]*)',' ',x)\n"
   ]
  },
  {
   "cell_type": "code",
   "execution_count": 72,
   "metadata": {},
   "outputs": [],
   "source": [
    "dataset.Tweets = [re.sub('([A-Za-z]+ @\\w+:)|(@\\w+) | (https:\\/\\/[a-zA-Z0-9]*.?[A-Za-z0-9]*\\/[a-zA-Z0-9]*)',' ',tweet) for tweet in dataset.Tweets]"
   ]
  },
  {
   "cell_type": "code",
   "execution_count": 73,
   "metadata": {},
   "outputs": [],
   "source": [
    "# Pattern_4 = '[^a-zA-z]' # Remove everything which is not a alphabet\n",
    "# re.sub('[^a-zA-z]',' ',x)\n",
    "\n",
    "dataset.Tweets = [' '.join(re.sub('[^a-zA-z]',' ',tweet).lower().split()) for tweet in dataset.Tweets]"
   ]
  },
  {
   "cell_type": "code",
   "execution_count": 74,
   "metadata": {},
   "outputs": [
    {
     "data": {
      "text/html": [
       "<div>\n",
       "<style scoped>\n",
       "    .dataframe tbody tr th:only-of-type {\n",
       "        vertical-align: middle;\n",
       "    }\n",
       "\n",
       "    .dataframe tbody tr th {\n",
       "        vertical-align: top;\n",
       "    }\n",
       "\n",
       "    .dataframe thead th {\n",
       "        text-align: right;\n",
       "    }\n",
       "</style>\n",
       "<table border=\"1\" class=\"dataframe\">\n",
       "  <thead>\n",
       "    <tr style=\"text-align: right;\">\n",
       "      <th></th>\n",
       "      <th>Id</th>\n",
       "      <th>Tweets</th>\n",
       "      <th>Lang</th>\n",
       "      <th>Location</th>\n",
       "    </tr>\n",
       "  </thead>\n",
       "  <tbody>\n",
       "    <tr>\n",
       "      <th>0</th>\n",
       "      <td>1225675713459539968</td>\n",
       "      <td>here s james morton from scottish trans allian...</td>\n",
       "      <td>en</td>\n",
       "      <td>Over here.</td>\n",
       "    </tr>\n",
       "    <tr>\n",
       "      <th>1</th>\n",
       "      <td>1225675711710523393</td>\n",
       "      <td>how do actors rules amp institutional contexts...</td>\n",
       "      <td>en</td>\n",
       "      <td>Sheffield and Buenos Aires</td>\n",
       "    </tr>\n",
       "    <tr>\n",
       "      <th>2</th>\n",
       "      <td>1225675705154859008</td>\n",
       "      <td>you did not choose your birthplace skin color ...</td>\n",
       "      <td>en</td>\n",
       "      <td>N.A</td>\n",
       "    </tr>\n",
       "    <tr>\n",
       "      <th>3</th>\n",
       "      <td>1225675701799358464</td>\n",
       "      <td>biometric gender verification yikes</td>\n",
       "      <td>en</td>\n",
       "      <td>N.A</td>\n",
       "    </tr>\n",
       "    <tr>\n",
       "      <th>4</th>\n",
       "      <td>1225675696694906880</td>\n",
       "      <td>top jobs lead to divorce for women but not for...</td>\n",
       "      <td>en</td>\n",
       "      <td>Geneva, Switzerland</td>\n",
       "    </tr>\n",
       "    <tr>\n",
       "      <th>5</th>\n",
       "      <td>1225675691875680258</td>\n",
       "      <td>is belief in immutable gender a philosophical ...</td>\n",
       "      <td>en</td>\n",
       "      <td>Reading, UK</td>\n",
       "    </tr>\n",
       "    <tr>\n",
       "      <th>6</th>\n",
       "      <td>1225675691787571204</td>\n",
       "      <td>this gender reveal party was crazy asf</td>\n",
       "      <td>en</td>\n",
       "      <td>N.A</td>\n",
       "    </tr>\n",
       "    <tr>\n",
       "      <th>7</th>\n",
       "      <td>1225675691305226240</td>\n",
       "      <td>and according to the article he did not ask th...</td>\n",
       "      <td>en</td>\n",
       "      <td>N.A</td>\n",
       "    </tr>\n",
       "    <tr>\n",
       "      <th>8</th>\n",
       "      <td>1225675689522679808</td>\n",
       "      <td>my last take on the issue of women soldiers it...</td>\n",
       "      <td>en</td>\n",
       "      <td>India</td>\n",
       "    </tr>\n",
       "    <tr>\n",
       "      <th>9</th>\n",
       "      <td>1225675678072180737</td>\n",
       "      <td>hong kong women upend gender roles in democrac...</td>\n",
       "      <td>en</td>\n",
       "      <td>Tokyo</td>\n",
       "    </tr>\n",
       "  </tbody>\n",
       "</table>\n",
       "</div>"
      ],
      "text/plain": [
       "                    Id                                             Tweets  \\\n",
       "0  1225675713459539968  here s james morton from scottish trans allian...   \n",
       "1  1225675711710523393  how do actors rules amp institutional contexts...   \n",
       "2  1225675705154859008  you did not choose your birthplace skin color ...   \n",
       "3  1225675701799358464                biometric gender verification yikes   \n",
       "4  1225675696694906880  top jobs lead to divorce for women but not for...   \n",
       "5  1225675691875680258  is belief in immutable gender a philosophical ...   \n",
       "6  1225675691787571204             this gender reveal party was crazy asf   \n",
       "7  1225675691305226240  and according to the article he did not ask th...   \n",
       "8  1225675689522679808  my last take on the issue of women soldiers it...   \n",
       "9  1225675678072180737  hong kong women upend gender roles in democrac...   \n",
       "\n",
       "  Lang                    Location  \n",
       "0   en                 Over here.   \n",
       "1   en  Sheffield and Buenos Aires  \n",
       "2   en                         N.A  \n",
       "3   en                         N.A  \n",
       "4   en         Geneva, Switzerland  \n",
       "5   en                 Reading, UK  \n",
       "6   en                         N.A  \n",
       "7   en                         N.A  \n",
       "8   en                       India  \n",
       "9   en                       Tokyo  "
      ]
     },
     "execution_count": 74,
     "metadata": {},
     "output_type": "execute_result"
    }
   ],
   "source": [
    "dataset.head(10)"
   ]
  },
  {
   "cell_type": "code",
   "execution_count": 76,
   "metadata": {},
   "outputs": [],
   "source": [
    "blob = TextBlob('here s james morton from scottish trans alliance advocating the use of blockers as harmless in a top level nhs meetin')"
   ]
  },
  {
   "cell_type": "code",
   "execution_count": 113,
   "metadata": {},
   "outputs": [],
   "source": [
    "dataset['Polarity'] = [TextBlob(tweet).sentiment.polarity for tweet in dataset.Tweets]\n",
    "dataset['Polarity'] = dataset['Polarity'].apply(lambda x : 'Pos' if (x>0) else ('Neu' if (x == 0) else 'Neg'))"
   ]
  },
  {
   "cell_type": "code",
   "execution_count": 114,
   "metadata": {},
   "outputs": [
    {
     "data": {
      "text/html": [
       "<div>\n",
       "<style scoped>\n",
       "    .dataframe tbody tr th:only-of-type {\n",
       "        vertical-align: middle;\n",
       "    }\n",
       "\n",
       "    .dataframe tbody tr th {\n",
       "        vertical-align: top;\n",
       "    }\n",
       "\n",
       "    .dataframe thead th {\n",
       "        text-align: right;\n",
       "    }\n",
       "</style>\n",
       "<table border=\"1\" class=\"dataframe\">\n",
       "  <thead>\n",
       "    <tr style=\"text-align: right;\">\n",
       "      <th></th>\n",
       "      <th>Id</th>\n",
       "      <th>Tweets</th>\n",
       "      <th>Lang</th>\n",
       "      <th>Location</th>\n",
       "      <th>Polarity</th>\n",
       "    </tr>\n",
       "  </thead>\n",
       "  <tbody>\n",
       "    <tr>\n",
       "      <th>0</th>\n",
       "      <td>1225675713459539968</td>\n",
       "      <td>here s james morton from scottish trans allian...</td>\n",
       "      <td>en</td>\n",
       "      <td>Over here.</td>\n",
       "      <td>Pos</td>\n",
       "    </tr>\n",
       "    <tr>\n",
       "      <th>1</th>\n",
       "      <td>1225675711710523393</td>\n",
       "      <td>how do actors rules amp institutional contexts...</td>\n",
       "      <td>en</td>\n",
       "      <td>Sheffield and Buenos Aires</td>\n",
       "      <td>Neu</td>\n",
       "    </tr>\n",
       "    <tr>\n",
       "      <th>2</th>\n",
       "      <td>1225675705154859008</td>\n",
       "      <td>you did not choose your birthplace skin color ...</td>\n",
       "      <td>en</td>\n",
       "      <td>N.A</td>\n",
       "      <td>Neu</td>\n",
       "    </tr>\n",
       "    <tr>\n",
       "      <th>3</th>\n",
       "      <td>1225675701799358464</td>\n",
       "      <td>biometric gender verification yikes</td>\n",
       "      <td>en</td>\n",
       "      <td>N.A</td>\n",
       "      <td>Neu</td>\n",
       "    </tr>\n",
       "    <tr>\n",
       "      <th>4</th>\n",
       "      <td>1225675696694906880</td>\n",
       "      <td>top jobs lead to divorce for women but not for...</td>\n",
       "      <td>en</td>\n",
       "      <td>Geneva, Switzerland</td>\n",
       "      <td>Pos</td>\n",
       "    </tr>\n",
       "  </tbody>\n",
       "</table>\n",
       "</div>"
      ],
      "text/plain": [
       "                    Id                                             Tweets  \\\n",
       "0  1225675713459539968  here s james morton from scottish trans allian...   \n",
       "1  1225675711710523393  how do actors rules amp institutional contexts...   \n",
       "2  1225675705154859008  you did not choose your birthplace skin color ...   \n",
       "3  1225675701799358464                biometric gender verification yikes   \n",
       "4  1225675696694906880  top jobs lead to divorce for women but not for...   \n",
       "\n",
       "  Lang                    Location Polarity  \n",
       "0   en                 Over here.       Pos  \n",
       "1   en  Sheffield and Buenos Aires      Neu  \n",
       "2   en                         N.A      Neu  \n",
       "3   en                         N.A      Neu  \n",
       "4   en         Geneva, Switzerland      Pos  "
      ]
     },
     "execution_count": 114,
     "metadata": {},
     "output_type": "execute_result"
    }
   ],
   "source": [
    "dataset.head()"
   ]
  },
  {
   "cell_type": "code",
   "execution_count": 119,
   "metadata": {},
   "outputs": [
    {
     "data": {
      "text/plain": [
       "Pos    556\n",
       "Neu    268\n",
       "Neg    168\n",
       "Name: Polarity, dtype: int64"
      ]
     },
     "execution_count": 119,
     "metadata": {},
     "output_type": "execute_result"
    }
   ],
   "source": [
    "dataset['Polarity'].value_counts()"
   ]
  },
  {
   "cell_type": "code",
   "execution_count": null,
   "metadata": {},
   "outputs": [],
   "source": []
  },
  {
   "cell_type": "code",
   "execution_count": null,
   "metadata": {},
   "outputs": [],
   "source": []
  }
 ],
 "metadata": {
  "kernelspec": {
   "display_name": "Python 3",
   "language": "python",
   "name": "python3"
  },
  "language_info": {
   "codemirror_mode": {
    "name": "ipython",
    "version": 3
   },
   "file_extension": ".py",
   "mimetype": "text/x-python",
   "name": "python",
   "nbconvert_exporter": "python",
   "pygments_lexer": "ipython3",
   "version": "3.7.3"
  }
 },
 "nbformat": 4,
 "nbformat_minor": 2
}
