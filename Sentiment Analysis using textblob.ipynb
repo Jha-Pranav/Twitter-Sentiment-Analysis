{
 "cells": [
  {
   "cell_type": "code",
   "execution_count": 125,
   "metadata": {},
   "outputs": [],
   "source": [
    "#Performing standard import\n",
    "\n",
    "import numpy as np\n",
    "import pandas as pd\n",
    "\n",
    "import re\n",
    "from textblob import TextBlob\n",
    "\n"
   ]
  },
  {
   "cell_type": "code",
   "execution_count": 126,
   "metadata": {},
   "outputs": [],
   "source": [
    "dataset = pd.read_csv('Extracted Data//Tweets on Gender.csv')"
   ]
  },
  {
   "cell_type": "code",
   "execution_count": 127,
   "metadata": {},
   "outputs": [
    {
     "data": {
      "text/html": [
       "<div>\n",
       "<style scoped>\n",
       "    .dataframe tbody tr th:only-of-type {\n",
       "        vertical-align: middle;\n",
       "    }\n",
       "\n",
       "    .dataframe tbody tr th {\n",
       "        vertical-align: top;\n",
       "    }\n",
       "\n",
       "    .dataframe thead th {\n",
       "        text-align: right;\n",
       "    }\n",
       "</style>\n",
       "<table border=\"1\" class=\"dataframe\">\n",
       "  <thead>\n",
       "    <tr style=\"text-align: right;\">\n",
       "      <th></th>\n",
       "      <th>Id</th>\n",
       "      <th>Tweets</th>\n",
       "      <th>Lang</th>\n",
       "      <th>Location</th>\n",
       "    </tr>\n",
       "  </thead>\n",
       "  <tbody>\n",
       "    <tr>\n",
       "      <th>0</th>\n",
       "      <td>1225675713459539968</td>\n",
       "      <td>RT @TwisterFilm: 13./ Here's James Morton from...</td>\n",
       "      <td>en</td>\n",
       "      <td>Over here.</td>\n",
       "    </tr>\n",
       "    <tr>\n",
       "      <th>1</th>\n",
       "      <td>1225675711710523393</td>\n",
       "      <td>How do actors, rules &amp;amp; institutional conte...</td>\n",
       "      <td>en</td>\n",
       "      <td>Sheffield and Buenos Aires</td>\n",
       "    </tr>\n",
       "    <tr>\n",
       "      <th>2</th>\n",
       "      <td>1225675705154859008</td>\n",
       "      <td>RT @DamnTrue04: You did not choose your:\\n\\n1 ...</td>\n",
       "      <td>en</td>\n",
       "      <td>NaN</td>\n",
       "    </tr>\n",
       "    <tr>\n",
       "      <th>3</th>\n",
       "      <td>1225675701799358464</td>\n",
       "      <td>\"biometric gender verification\" YIKES!</td>\n",
       "      <td>en</td>\n",
       "      <td>NaN</td>\n",
       "    </tr>\n",
       "    <tr>\n",
       "      <th>4</th>\n",
       "      <td>1225675696694906880</td>\n",
       "      <td>Top jobs lead to divorce for women, but not fo...</td>\n",
       "      <td>en</td>\n",
       "      <td>Geneva, Switzerland</td>\n",
       "    </tr>\n",
       "  </tbody>\n",
       "</table>\n",
       "</div>"
      ],
      "text/plain": [
       "                    Id                                             Tweets  \\\n",
       "0  1225675713459539968  RT @TwisterFilm: 13./ Here's James Morton from...   \n",
       "1  1225675711710523393  How do actors, rules &amp; institutional conte...   \n",
       "2  1225675705154859008  RT @DamnTrue04: You did not choose your:\\n\\n1 ...   \n",
       "3  1225675701799358464             \"biometric gender verification\" YIKES!   \n",
       "4  1225675696694906880  Top jobs lead to divorce for women, but not fo...   \n",
       "\n",
       "  Lang                    Location  \n",
       "0   en                 Over here.   \n",
       "1   en  Sheffield and Buenos Aires  \n",
       "2   en                         NaN  \n",
       "3   en                         NaN  \n",
       "4   en         Geneva, Switzerland  "
      ]
     },
     "execution_count": 127,
     "metadata": {},
     "output_type": "execute_result"
    }
   ],
   "source": [
    "dataset.head()\n"
   ]
  },
  {
   "cell_type": "code",
   "execution_count": 128,
   "metadata": {},
   "outputs": [
    {
     "name": "stdout",
     "output_type": "stream",
     "text": [
      "<class 'pandas.core.frame.DataFrame'>\n",
      "RangeIndex: 992 entries, 0 to 991\n",
      "Data columns (total 4 columns):\n",
      "Id          992 non-null int64\n",
      "Tweets      992 non-null object\n",
      "Lang        992 non-null object\n",
      "Location    650 non-null object\n",
      "dtypes: int64(1), object(3)\n",
      "memory usage: 31.1+ KB\n"
     ]
    }
   ],
   "source": [
    "dataset.info()"
   ]
  },
  {
   "cell_type": "code",
   "execution_count": 129,
   "metadata": {},
   "outputs": [
    {
     "data": {
      "text/plain": [
       "Id            0\n",
       "Tweets        0\n",
       "Lang          0\n",
       "Location    342\n",
       "dtype: int64"
      ]
     },
     "execution_count": 129,
     "metadata": {},
     "output_type": "execute_result"
    }
   ],
   "source": [
    "dataset.isnull().sum()"
   ]
  },
  {
   "cell_type": "markdown",
   "metadata": {},
   "source": [
    "#### Text Preprocessing :"
   ]
  },
  {
   "cell_type": "code",
   "execution_count": 130,
   "metadata": {},
   "outputs": [],
   "source": [
    "dataset['Location'] = dataset['Location'].fillna('N.A')"
   ]
  },
  {
   "cell_type": "code",
   "execution_count": 71,
   "metadata": {},
   "outputs": [],
   "source": [
    "# pattern_1 = '([A-Za-z]+ @\\w+:)'  # RT @TwisterFilm:\n",
    "# pattern_2 = '(@\\w+)'             # @TwisterFilm\n",
    "# pattern_3 = '(https:\\/\\/[a-zA-Z0-9]*.?[A-Za-z0-9]*\\/[a-zA-Z0-9]*' #link : https://t.co/IPzmqu4PfK'\n",
    "\n",
    "# re.sub('([A-Za-z]+ @\\w+:)|(@\\w+) | (https:\\/\\/[a-zA-Z0-9]*.?[A-Za-z0-9]*\\/[a-zA-Z0-9]*)',' ',x)\n"
   ]
  },
  {
   "cell_type": "code",
   "execution_count": 131,
   "metadata": {},
   "outputs": [],
   "source": [
    "dataset['Cleaned_text'] = [re.sub('([A-Za-z]+ @\\w+:)|(@\\w+) | (https:\\/\\/[a-zA-Z0-9]*.?[A-Za-z0-9]*\\/[a-zA-Z0-9]*)',' ',tweet) for tweet in dataset.Tweets]"
   ]
  },
  {
   "cell_type": "code",
   "execution_count": 132,
   "metadata": {},
   "outputs": [],
   "source": [
    "# Pattern_4 = '[^a-zA-z]' # Remove everything which is not a alphabet\n",
    "# re.sub('[^a-zA-z]',' ',x)\n",
    "\n",
    "dataset['Cleaned_text'] = [' '.join(re.sub('[^a-zA-z]',' ',tweet).lower().split()) for tweet in dataset.Tweets]"
   ]
  },
  {
   "cell_type": "code",
   "execution_count": 133,
   "metadata": {},
   "outputs": [
    {
     "data": {
      "text/html": [
       "<div>\n",
       "<style scoped>\n",
       "    .dataframe tbody tr th:only-of-type {\n",
       "        vertical-align: middle;\n",
       "    }\n",
       "\n",
       "    .dataframe tbody tr th {\n",
       "        vertical-align: top;\n",
       "    }\n",
       "\n",
       "    .dataframe thead th {\n",
       "        text-align: right;\n",
       "    }\n",
       "</style>\n",
       "<table border=\"1\" class=\"dataframe\">\n",
       "  <thead>\n",
       "    <tr style=\"text-align: right;\">\n",
       "      <th></th>\n",
       "      <th>Id</th>\n",
       "      <th>Tweets</th>\n",
       "      <th>Lang</th>\n",
       "      <th>Location</th>\n",
       "      <th>Cleaned_text</th>\n",
       "    </tr>\n",
       "  </thead>\n",
       "  <tbody>\n",
       "    <tr>\n",
       "      <th>0</th>\n",
       "      <td>1225675713459539968</td>\n",
       "      <td>RT @TwisterFilm: 13./ Here's James Morton from...</td>\n",
       "      <td>en</td>\n",
       "      <td>Over here.</td>\n",
       "      <td>rt twisterfilm here s james morton from scotti...</td>\n",
       "    </tr>\n",
       "    <tr>\n",
       "      <th>1</th>\n",
       "      <td>1225675711710523393</td>\n",
       "      <td>How do actors, rules &amp;amp; institutional conte...</td>\n",
       "      <td>en</td>\n",
       "      <td>Sheffield and Buenos Aires</td>\n",
       "      <td>how do actors rules amp institutional contexts...</td>\n",
       "    </tr>\n",
       "    <tr>\n",
       "      <th>2</th>\n",
       "      <td>1225675705154859008</td>\n",
       "      <td>RT @DamnTrue04: You did not choose your:\\n\\n1 ...</td>\n",
       "      <td>en</td>\n",
       "      <td>N.A</td>\n",
       "      <td>rt damntrue you did not choose your birthplace...</td>\n",
       "    </tr>\n",
       "    <tr>\n",
       "      <th>3</th>\n",
       "      <td>1225675701799358464</td>\n",
       "      <td>\"biometric gender verification\" YIKES!</td>\n",
       "      <td>en</td>\n",
       "      <td>N.A</td>\n",
       "      <td>biometric gender verification yikes</td>\n",
       "    </tr>\n",
       "    <tr>\n",
       "      <th>4</th>\n",
       "      <td>1225675696694906880</td>\n",
       "      <td>Top jobs lead to divorce for women, but not fo...</td>\n",
       "      <td>en</td>\n",
       "      <td>Geneva, Switzerland</td>\n",
       "      <td>top jobs lead to divorce for women but not for...</td>\n",
       "    </tr>\n",
       "    <tr>\n",
       "      <th>5</th>\n",
       "      <td>1225675691875680258</td>\n",
       "      <td>Is belief in immutable gender a philosophical ...</td>\n",
       "      <td>en</td>\n",
       "      <td>Reading, UK</td>\n",
       "      <td>is belief in immutable gender a philosophical ...</td>\n",
       "    </tr>\n",
       "    <tr>\n",
       "      <th>6</th>\n",
       "      <td>1225675691787571204</td>\n",
       "      <td>RT @Terrell__green: This Gender reveal party w...</td>\n",
       "      <td>en</td>\n",
       "      <td>N.A</td>\n",
       "      <td>rt terrell__green this gender reveal party was...</td>\n",
       "    </tr>\n",
       "    <tr>\n",
       "      <th>7</th>\n",
       "      <td>1225675691305226240</td>\n",
       "      <td>and according to the article he did not ask th...</td>\n",
       "      <td>en</td>\n",
       "      <td>N.A</td>\n",
       "      <td>and according to the article he did not ask th...</td>\n",
       "    </tr>\n",
       "    <tr>\n",
       "      <th>8</th>\n",
       "      <td>1225675689522679808</td>\n",
       "      <td>RT @DikshitSmita: My last take on the issue of...</td>\n",
       "      <td>en</td>\n",
       "      <td>India</td>\n",
       "      <td>rt dikshitsmita my last take on the issue of w...</td>\n",
       "    </tr>\n",
       "    <tr>\n",
       "      <th>9</th>\n",
       "      <td>1225675678072180737</td>\n",
       "      <td>Hong Kong women upend gender roles in democrac...</td>\n",
       "      <td>en</td>\n",
       "      <td>Tokyo</td>\n",
       "      <td>hong kong women upend gender roles in democrac...</td>\n",
       "    </tr>\n",
       "  </tbody>\n",
       "</table>\n",
       "</div>"
      ],
      "text/plain": [
       "                    Id                                             Tweets  \\\n",
       "0  1225675713459539968  RT @TwisterFilm: 13./ Here's James Morton from...   \n",
       "1  1225675711710523393  How do actors, rules &amp; institutional conte...   \n",
       "2  1225675705154859008  RT @DamnTrue04: You did not choose your:\\n\\n1 ...   \n",
       "3  1225675701799358464             \"biometric gender verification\" YIKES!   \n",
       "4  1225675696694906880  Top jobs lead to divorce for women, but not fo...   \n",
       "5  1225675691875680258  Is belief in immutable gender a philosophical ...   \n",
       "6  1225675691787571204  RT @Terrell__green: This Gender reveal party w...   \n",
       "7  1225675691305226240  and according to the article he did not ask th...   \n",
       "8  1225675689522679808  RT @DikshitSmita: My last take on the issue of...   \n",
       "9  1225675678072180737  Hong Kong women upend gender roles in democrac...   \n",
       "\n",
       "  Lang                    Location  \\\n",
       "0   en                 Over here.    \n",
       "1   en  Sheffield and Buenos Aires   \n",
       "2   en                         N.A   \n",
       "3   en                         N.A   \n",
       "4   en         Geneva, Switzerland   \n",
       "5   en                 Reading, UK   \n",
       "6   en                         N.A   \n",
       "7   en                         N.A   \n",
       "8   en                       India   \n",
       "9   en                       Tokyo   \n",
       "\n",
       "                                        Cleaned_text  \n",
       "0  rt twisterfilm here s james morton from scotti...  \n",
       "1  how do actors rules amp institutional contexts...  \n",
       "2  rt damntrue you did not choose your birthplace...  \n",
       "3                biometric gender verification yikes  \n",
       "4  top jobs lead to divorce for women but not for...  \n",
       "5  is belief in immutable gender a philosophical ...  \n",
       "6  rt terrell__green this gender reveal party was...  \n",
       "7  and according to the article he did not ask th...  \n",
       "8  rt dikshitsmita my last take on the issue of w...  \n",
       "9  hong kong women upend gender roles in democrac...  "
      ]
     },
     "execution_count": 133,
     "metadata": {},
     "output_type": "execute_result"
    }
   ],
   "source": [
    "dataset.head(10)"
   ]
  },
  {
   "cell_type": "code",
   "execution_count": 138,
   "metadata": {},
   "outputs": [],
   "source": [
    "dataset['textblob_polarity'] = [TextBlob(tweet).sentiment.polarity for tweet in dataset.Cleaned_text]\n",
    "dataset['textblob_polarity'] = dataset['textblob_polarity'].apply(lambda x : 'Pos' if (x>0) else ('Neu' if (x == 0) else 'Neg'))"
   ]
  },
  {
   "cell_type": "code",
   "execution_count": 139,
   "metadata": {},
   "outputs": [
    {
     "data": {
      "text/html": [
       "<div>\n",
       "<style scoped>\n",
       "    .dataframe tbody tr th:only-of-type {\n",
       "        vertical-align: middle;\n",
       "    }\n",
       "\n",
       "    .dataframe tbody tr th {\n",
       "        vertical-align: top;\n",
       "    }\n",
       "\n",
       "    .dataframe thead th {\n",
       "        text-align: right;\n",
       "    }\n",
       "</style>\n",
       "<table border=\"1\" class=\"dataframe\">\n",
       "  <thead>\n",
       "    <tr style=\"text-align: right;\">\n",
       "      <th></th>\n",
       "      <th>Id</th>\n",
       "      <th>Tweets</th>\n",
       "      <th>Lang</th>\n",
       "      <th>Location</th>\n",
       "      <th>Cleaned_text</th>\n",
       "      <th>Polarity</th>\n",
       "      <th>textblob_polarity</th>\n",
       "    </tr>\n",
       "  </thead>\n",
       "  <tbody>\n",
       "    <tr>\n",
       "      <th>0</th>\n",
       "      <td>1225675713459539968</td>\n",
       "      <td>RT @TwisterFilm: 13./ Here's James Morton from...</td>\n",
       "      <td>en</td>\n",
       "      <td>Over here.</td>\n",
       "      <td>rt twisterfilm here s james morton from scotti...</td>\n",
       "      <td>Pos</td>\n",
       "      <td>Pos</td>\n",
       "    </tr>\n",
       "    <tr>\n",
       "      <th>1</th>\n",
       "      <td>1225675711710523393</td>\n",
       "      <td>How do actors, rules &amp;amp; institutional conte...</td>\n",
       "      <td>en</td>\n",
       "      <td>Sheffield and Buenos Aires</td>\n",
       "      <td>how do actors rules amp institutional contexts...</td>\n",
       "      <td>Neu</td>\n",
       "      <td>Neu</td>\n",
       "    </tr>\n",
       "    <tr>\n",
       "      <th>2</th>\n",
       "      <td>1225675705154859008</td>\n",
       "      <td>RT @DamnTrue04: You did not choose your:\\n\\n1 ...</td>\n",
       "      <td>en</td>\n",
       "      <td>N.A</td>\n",
       "      <td>rt damntrue you did not choose your birthplace...</td>\n",
       "      <td>Neu</td>\n",
       "      <td>Neu</td>\n",
       "    </tr>\n",
       "    <tr>\n",
       "      <th>3</th>\n",
       "      <td>1225675701799358464</td>\n",
       "      <td>\"biometric gender verification\" YIKES!</td>\n",
       "      <td>en</td>\n",
       "      <td>N.A</td>\n",
       "      <td>biometric gender verification yikes</td>\n",
       "      <td>Neu</td>\n",
       "      <td>Neu</td>\n",
       "    </tr>\n",
       "    <tr>\n",
       "      <th>4</th>\n",
       "      <td>1225675696694906880</td>\n",
       "      <td>Top jobs lead to divorce for women, but not fo...</td>\n",
       "      <td>en</td>\n",
       "      <td>Geneva, Switzerland</td>\n",
       "      <td>top jobs lead to divorce for women but not for...</td>\n",
       "      <td>Pos</td>\n",
       "      <td>Pos</td>\n",
       "    </tr>\n",
       "  </tbody>\n",
       "</table>\n",
       "</div>"
      ],
      "text/plain": [
       "                    Id                                             Tweets  \\\n",
       "0  1225675713459539968  RT @TwisterFilm: 13./ Here's James Morton from...   \n",
       "1  1225675711710523393  How do actors, rules &amp; institutional conte...   \n",
       "2  1225675705154859008  RT @DamnTrue04: You did not choose your:\\n\\n1 ...   \n",
       "3  1225675701799358464             \"biometric gender verification\" YIKES!   \n",
       "4  1225675696694906880  Top jobs lead to divorce for women, but not fo...   \n",
       "\n",
       "  Lang                    Location  \\\n",
       "0   en                 Over here.    \n",
       "1   en  Sheffield and Buenos Aires   \n",
       "2   en                         N.A   \n",
       "3   en                         N.A   \n",
       "4   en         Geneva, Switzerland   \n",
       "\n",
       "                                        Cleaned_text Polarity  \\\n",
       "0  rt twisterfilm here s james morton from scotti...      Pos   \n",
       "1  how do actors rules amp institutional contexts...      Neu   \n",
       "2  rt damntrue you did not choose your birthplace...      Neu   \n",
       "3                biometric gender verification yikes      Neu   \n",
       "4  top jobs lead to divorce for women but not for...      Pos   \n",
       "\n",
       "  textblob_polarity  \n",
       "0               Pos  \n",
       "1               Neu  \n",
       "2               Neu  \n",
       "3               Neu  \n",
       "4               Pos  "
      ]
     },
     "execution_count": 139,
     "metadata": {},
     "output_type": "execute_result"
    }
   ],
   "source": [
    "dataset.head()"
   ]
  },
  {
   "cell_type": "code",
   "execution_count": 140,
   "metadata": {},
   "outputs": [
    {
     "data": {
      "text/plain": [
       "Pos    556\n",
       "Neu    268\n",
       "Neg    168\n",
       "Name: textblob_polarity, dtype: int64"
      ]
     },
     "execution_count": 140,
     "metadata": {},
     "output_type": "execute_result"
    }
   ],
   "source": [
    "dataset['textblob_polarity'].value_counts()"
   ]
  },
  {
   "cell_type": "code",
   "execution_count": 144,
   "metadata": {},
   "outputs": [],
   "source": [
    "dataset.to_csv('Extracted Data//Tweets on Gender.csv',index=None)"
   ]
  },
  {
   "cell_type": "code",
   "execution_count": 146,
   "metadata": {},
   "outputs": [
    {
     "data": {
      "text/html": [
       "<div>\n",
       "<style scoped>\n",
       "    .dataframe tbody tr th:only-of-type {\n",
       "        vertical-align: middle;\n",
       "    }\n",
       "\n",
       "    .dataframe tbody tr th {\n",
       "        vertical-align: top;\n",
       "    }\n",
       "\n",
       "    .dataframe thead th {\n",
       "        text-align: right;\n",
       "    }\n",
       "</style>\n",
       "<table border=\"1\" class=\"dataframe\">\n",
       "  <thead>\n",
       "    <tr style=\"text-align: right;\">\n",
       "      <th></th>\n",
       "      <th>Id</th>\n",
       "      <th>Tweets</th>\n",
       "      <th>Lang</th>\n",
       "      <th>Location</th>\n",
       "      <th>Cleaned_text</th>\n",
       "      <th>textblob_polarity</th>\n",
       "    </tr>\n",
       "  </thead>\n",
       "  <tbody>\n",
       "    <tr>\n",
       "      <th>0</th>\n",
       "      <td>1225675713459539968</td>\n",
       "      <td>RT @TwisterFilm: 13./ Here's James Morton from...</td>\n",
       "      <td>en</td>\n",
       "      <td>Over here.</td>\n",
       "      <td>rt twisterfilm here s james morton from scotti...</td>\n",
       "      <td>Pos</td>\n",
       "    </tr>\n",
       "    <tr>\n",
       "      <th>1</th>\n",
       "      <td>1225675711710523393</td>\n",
       "      <td>How do actors, rules &amp;amp; institutional conte...</td>\n",
       "      <td>en</td>\n",
       "      <td>Sheffield and Buenos Aires</td>\n",
       "      <td>how do actors rules amp institutional contexts...</td>\n",
       "      <td>Neu</td>\n",
       "    </tr>\n",
       "    <tr>\n",
       "      <th>2</th>\n",
       "      <td>1225675705154859008</td>\n",
       "      <td>RT @DamnTrue04: You did not choose your:\\n\\n1 ...</td>\n",
       "      <td>en</td>\n",
       "      <td>N.A</td>\n",
       "      <td>rt damntrue you did not choose your birthplace...</td>\n",
       "      <td>Neu</td>\n",
       "    </tr>\n",
       "    <tr>\n",
       "      <th>3</th>\n",
       "      <td>1225675701799358464</td>\n",
       "      <td>\"biometric gender verification\" YIKES!</td>\n",
       "      <td>en</td>\n",
       "      <td>N.A</td>\n",
       "      <td>biometric gender verification yikes</td>\n",
       "      <td>Neu</td>\n",
       "    </tr>\n",
       "    <tr>\n",
       "      <th>4</th>\n",
       "      <td>1225675696694906880</td>\n",
       "      <td>Top jobs lead to divorce for women, but not fo...</td>\n",
       "      <td>en</td>\n",
       "      <td>Geneva, Switzerland</td>\n",
       "      <td>top jobs lead to divorce for women but not for...</td>\n",
       "      <td>Pos</td>\n",
       "    </tr>\n",
       "  </tbody>\n",
       "</table>\n",
       "</div>"
      ],
      "text/plain": [
       "                    Id                                             Tweets  \\\n",
       "0  1225675713459539968  RT @TwisterFilm: 13./ Here's James Morton from...   \n",
       "1  1225675711710523393  How do actors, rules &amp; institutional conte...   \n",
       "2  1225675705154859008  RT @DamnTrue04: You did not choose your:\\n\\n1 ...   \n",
       "3  1225675701799358464             \"biometric gender verification\" YIKES!   \n",
       "4  1225675696694906880  Top jobs lead to divorce for women, but not fo...   \n",
       "\n",
       "  Lang                    Location  \\\n",
       "0   en                 Over here.    \n",
       "1   en  Sheffield and Buenos Aires   \n",
       "2   en                         N.A   \n",
       "3   en                         N.A   \n",
       "4   en         Geneva, Switzerland   \n",
       "\n",
       "                                        Cleaned_text textblob_polarity  \n",
       "0  rt twisterfilm here s james morton from scotti...               Pos  \n",
       "1  how do actors rules amp institutional contexts...               Neu  \n",
       "2  rt damntrue you did not choose your birthplace...               Neu  \n",
       "3                biometric gender verification yikes               Neu  \n",
       "4  top jobs lead to divorce for women but not for...               Pos  "
      ]
     },
     "execution_count": 146,
     "metadata": {},
     "output_type": "execute_result"
    }
   ],
   "source": [
    "pd.read_csv('Extracted Data//Tweets on Gender.csv').head()"
   ]
  },
  {
   "cell_type": "code",
   "execution_count": null,
   "metadata": {},
   "outputs": [],
   "source": []
  }
 ],
 "metadata": {
  "kernelspec": {
   "display_name": "Python 3",
   "language": "python",
   "name": "python3"
  },
  "language_info": {
   "codemirror_mode": {
    "name": "ipython",
    "version": 3
   },
   "file_extension": ".py",
   "mimetype": "text/x-python",
   "name": "python",
   "nbconvert_exporter": "python",
   "pygments_lexer": "ipython3",
   "version": "3.7.3"
  }
 },
 "nbformat": 4,
 "nbformat_minor": 2
}
